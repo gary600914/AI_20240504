{
 "cells": [
  {
   "cell_type": "code",
   "execution_count": 1,
   "metadata": {},
   "outputs": [
    {
     "name": "stdout",
     "output_type": "stream",
     "text": [
      "1\n",
      "4\n"
     ]
    }
   ],
   "source": [
    "a=24\n",
    "if a>=12:\n",
    "\tprint(\"1\") \n",
    "else:\n",
    "\tprint(\"2\")\n",
    "\t\n",
    "if not a>=12:\n",
    "\tprint(\"3\")\n",
    "else:\n",
    "\tprint(\"4\")"
   ]
  },
  {
   "cell_type": "code",
   "execution_count": 2,
   "metadata": {},
   "outputs": [
    {
     "name": "stdout",
     "output_type": "stream",
     "text": [
      "高血壓二期\n"
     ]
    }
   ],
   "source": [
    "sbp = int(input(\"請輸入收縮壓:\"))\n",
    "dbp = int(input(\"請輸入舒張壓:\"))\n",
    "suggestion =  \"\"\n",
    "if sbp < 120 and dbp < 80:\n",
    "   suggestion = \"正常\"\n",
    "\n",
    "if 120 <= sbp <= 129 and dbp < 80:\n",
    "   suggestion = \"高血壓升高\"\n",
    "\n",
    "if 130 <= sbp <= 139 or 80 <= dbp <= 89:\n",
    "   suggestion = \"高血壓一期\"\n",
    "\n",
    "if sbp >= 140 or dbp >= 90:\n",
    "   suggestion = \"高血壓二期\"\n",
    "\n",
    "if sbp >= 130 and dbp < 80:\n",
    "   suggestion = \"單純收縮期高血壓\"\n",
    "\n",
    "print(suggestion)"
   ]
  }
 ],
 "metadata": {
  "kernelspec": {
   "display_name": "Python 3",
   "language": "python",
   "name": "python3"
  },
  "language_info": {
   "codemirror_mode": {
    "name": "ipython",
    "version": 3
   },
   "file_extension": ".py",
   "mimetype": "text/x-python",
   "name": "python",
   "nbconvert_exporter": "python",
   "pygments_lexer": "ipython3",
   "version": "3.10.14"
  }
 },
 "nbformat": 4,
 "nbformat_minor": 2
}
